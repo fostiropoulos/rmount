{
 "cells": [
  {
   "cell_type": "markdown",
   "metadata": {},
   "source": [
    "# RMount Example for S3 \n",
    "\n",
    "S3 is a protocol for cloud storage introduced by AWS ([read more](https://docs.aws.amazon.com/AmazonS3/latest/userguide/Welcome.html)). However several other providers support access to their cloud storage through S3. A full list of the ones supported by RMount are also listed [here](https://rclone.org/s3/).\n",
    "\n",
    "To find out how to set-up secret credentials you can use the official guide for [AWS](https://aws.amazon.com/blogs/security/wheres-my-secret-access-key/) and [GCP](https://cloud.google.com/storage/docs/authentication/managing-hmackeys). \n",
    "\n",
    "You will need to find: \n",
    "1. `secret_access_key`\n",
    "2. `access_key_id`\n",
    "3. `region`\n",
    "4. `bucket_name`\n",
    "5. `provider` in [`AWS`, `GCP`]\n",
    "\n",
    "\n",
    "RMount requires depedencies:\n",
    "\n",
    "1. `fuse3`\n",
    "2. *Optionally* docker if using a `RemoteServer`\n"
   ]
  },
  {
   "cell_type": "code",
   "execution_count": null,
   "metadata": {},
   "outputs": [],
   "source": [
    "!apt-get install fuse3\n",
    "!pip install rmount"
   ]
  },
  {
   "cell_type": "code",
   "execution_count": null,
   "metadata": {},
   "outputs": [],
   "source": [
    "from pathlib import Path\n",
    "from rmount import RemoteMount, S3\n",
    "\n",
    "config = S3(\n",
    "    provider=\"AWS\",\n",
    "    region=\"us-east-2\",\n",
    "    secret_access_key=\"xx\",\n",
    "    access_key_id=\"xx\",\n",
    ")\n",
    "\n",
    "\n",
    "local_path = Path(\"rmount\")  # local directory\n",
    "remote_path = \"rmount\"  # s3://rmount\n",
    "# mapping `local_path` -> `remote_path`\n",
    "\n",
    "if \"mount\" not in locals() or not mount.is_alive():\n",
    "    # we want to avoid re-mounting an existing directory.\n",
    "    # Will be slow and cause errors.\n",
    "    mount = RemoteMount(config, remote_path, local_path)\n",
    "    mount.mount()"
   ]
  },
  {
   "cell_type": "code",
   "execution_count": null,
   "metadata": {},
   "outputs": [],
   "source": [
    "local_path.joinpath(\"foo1\").write_text(\"bar1\")"
   ]
  },
  {
   "cell_type": "code",
   "execution_count": null,
   "metadata": {},
   "outputs": [],
   "source": [
    "local_path.joinpath(\"foo2\").write_text(\"bar2\")"
   ]
  }
 ],
 "metadata": {
  "kernelspec": {
   "display_name": "torch",
   "language": "python",
   "name": "python3"
  },
  "language_info": {
   "codemirror_mode": {
    "name": "ipython",
    "version": 3
   },
   "file_extension": ".py",
   "mimetype": "text/x-python",
   "name": "python",
   "nbconvert_exporter": "python",
   "pygments_lexer": "ipython3",
   "version": "3.10.13"
  },
  "orig_nbformat": 4
 },
 "nbformat": 4,
 "nbformat_minor": 2
}
